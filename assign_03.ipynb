{
  "nbformat": 4,
  "nbformat_minor": 0,
  "metadata": {
    "colab": {
      "name": "assign-03.ipynb",
      "provenance": []
    },
    "kernelspec": {
      "name": "python3",
      "display_name": "Python 3"
    }
  },
  "cells": [
    {
      "cell_type": "code",
      "metadata": {
        "id": "x6waRrXmq3kj",
        "colab_type": "code",
        "colab": {}
      },
      "source": [
        "Dictionary\n",
        "\n",
        "A dictionary is a collection which is unordered, changeable and indexed. In Python dictionaries are written with curly brackets, and they have keys and values.\n",
        "Example\n",
        "\n",
        "Create and print a dictionary:\n",
        "thisdict =\t{\n",
        "  \"brand\": \"Ford\",\n",
        "model\": \"Mustang\",\n",
        "  \"year\": 1964\n",
        "}\n",
        "print(thisdict)"
      ],
      "execution_count": null,
      "outputs": []
    },
    {
      "cell_type": "code",
      "metadata": {
        "id": "iY9rOo-Bsd-9",
        "colab_type": "code",
        "colab": {
          "base_uri": "https://localhost:8080/",
          "height": 35
        },
        "outputId": "46cd73a1-50a2-4125-e249-2962fde7cdae"
      },
      "source": [
        "Dic1={1:10,2:20}\n",
        "Dic2={3:30,4:40}\n",
        "Dic3={5:50,6:60}\n",
        "Dic4=dict()\n",
        "for i in Dic1,Dic2,Dic3:\n",
        "    Dic4.update(i)\n",
        "print(Dic4)"
      ],
      "execution_count": 2,
      "outputs": [
        {
          "output_type": "stream",
          "text": [
            "{1: 10, 2: 20, 3: 30, 4: 40, 5: 50, 6: 60}\n"
          ],
          "name": "stdout"
        }
      ]
    },
    {
      "cell_type": "code",
      "metadata": {
        "id": "MLW3r04Judkj",
        "colab_type": "code",
        "colab": {
          "base_uri": "https://localhost:8080/",
          "height": 35
        },
        "outputId": "20c8e5dc-8572-46fd-f870-738e43063c48"
      },
      "source": [
        "Tuple=(1,2,3)\n",
        "print(Tuple)"
      ],
      "execution_count": 3,
      "outputs": [
        {
          "output_type": "stream",
          "text": [
            "(1, 2, 3)\n"
          ],
          "name": "stdout"
        }
      ]
    },
    {
      "cell_type": "code",
      "metadata": {
        "id": "SJXXYWWEumr_",
        "colab_type": "code",
        "colab": {
          "base_uri": "https://localhost:8080/",
          "height": 35
        },
        "outputId": "0c421246-6734-41ce-9a77-3f22ebf458c3"
      },
      "source": [
        "Dict1={1:12,2:34,3:67}\n",
        "List=[]\n",
        "List=list(Dict1.items())\n",
        "print(List[0])"
      ],
      "execution_count": 4,
      "outputs": [
        {
          "output_type": "stream",
          "text": [
            "(1, 12)\n"
          ],
          "name": "stdout"
        }
      ]
    },
    {
      "cell_type": "code",
      "metadata": {
        "id": "IcHyHzLNummz",
        "colab_type": "code",
        "colab": {
          "base_uri": "https://localhost:8080/",
          "height": 72
        },
        "outputId": "211ef466-5d77-42b2-a228-6a448b781751"
      },
      "source": [
        "Dict={1:\"sunny\",2:\"is\",3:\"good\"}\n",
        "for i in Dict:\n",
        "    print(i,Dict[i])"
      ],
      "execution_count": 5,
      "outputs": [
        {
          "output_type": "stream",
          "text": [
            "1 sunny\n",
            "2 is\n",
            "3 good\n"
          ],
          "name": "stdout"
        }
      ]
    },
    {
      "cell_type": "code",
      "metadata": {
        "id": "PYDVHdshumjT",
        "colab_type": "code",
        "colab": {
          "base_uri": "https://localhost:8080/",
          "height": 35
        },
        "outputId": "226de2ce-94c7-4110-fe2e-11ed524c5cca"
      },
      "source": [
        "List=[1,2,{}]\n",
        "print(List)\n"
      ],
      "execution_count": 6,
      "outputs": [
        {
          "output_type": "stream",
          "text": [
            "[1, 2, {}]\n"
          ],
          "name": "stdout"
        }
      ]
    },
    {
      "cell_type": "code",
      "metadata": {
        "id": "vozHQv5mumfH",
        "colab_type": "code",
        "colab": {
          "base_uri": "https://localhost:8080/",
          "height": 35
        },
        "outputId": "193542d6-05eb-4c5d-d616-f6fc06f8b861"
      },
      "source": [
        "List=[1,2,3,4,5]\n",
        "Tuple=tuple(List)\n",
        "print(Tuple)"
      ],
      "execution_count": 7,
      "outputs": [
        {
          "output_type": "stream",
          "text": [
            "(1, 2, 3, 4, 5)\n"
          ],
          "name": "stdout"
        }
      ]
    },
    {
      "cell_type": "code",
      "metadata": {
        "id": "yzf9aFJAumbj",
        "colab_type": "code",
        "colab": {
          "base_uri": "https://localhost:8080/",
          "height": 72
        },
        "outputId": "0a4efa40-6cd1-43bc-ea49-f84cded608ea"
      },
      "source": [
        "Tuple=(1,2,3,4,5,6,7,8)\n",
        "print(Tuple[4:])\n",
        "print(Tuple[0:4])\n",
        "print(Tuple[-6:-1])"
      ],
      "execution_count": 8,
      "outputs": [
        {
          "output_type": "stream",
          "text": [
            "(5, 6, 7, 8)\n",
            "(1, 2, 3, 4)\n",
            "(3, 4, 5, 6, 7)\n"
          ],
          "name": "stdout"
        }
      ]
    },
    {
      "cell_type": "code",
      "metadata": {
        "id": "UzvuAA73umRc",
        "colab_type": "code",
        "colab": {
          "base_uri": "https://localhost:8080/",
          "height": 35
        },
        "outputId": "1b38255f-2312-49e3-d0a2-4160e9c066f6"
      },
      "source": [
        "Dict={1:12,2:34,3:45}\n",
        "print(sum(Dict.values()))"
      ],
      "execution_count": 9,
      "outputs": [
        {
          "output_type": "stream",
          "text": [
            "91\n"
          ],
          "name": "stdout"
        }
      ]
    },
    {
      "cell_type": "code",
      "metadata": {
        "id": "-4veX7PdvkDZ",
        "colab_type": "code",
        "colab": {
          "base_uri": "https://localhost:8080/",
          "height": 35
        },
        "outputId": "7138d244-d4e9-46a3-f122-16579f2156ee"
      },
      "source": [
        "List=[1,2,3,4,5]\n",
        "a=sum(List)\n",
        "print(a)"
      ],
      "execution_count": 10,
      "outputs": [
        {
          "output_type": "stream",
          "text": [
            "15\n"
          ],
          "name": "stdout"
        }
      ]
    },
    {
      "cell_type": "code",
      "metadata": {
        "id": "rgsJ_XNOvkXS",
        "colab_type": "code",
        "colab": {
          "base_uri": "https://localhost:8080/",
          "height": 35
        },
        "outputId": "f48785db-362b-43fb-c36b-ed4982b79dc4"
      },
      "source": [
        "Tuple=(1,\"gitam\",2.56)\n",
        "print(Tuple)"
      ],
      "execution_count": 11,
      "outputs": [
        {
          "output_type": "stream",
          "text": [
            "(1, 'gitam', 2.56)\n"
          ],
          "name": "stdout"
        }
      ]
    },
    {
      "cell_type": "code",
      "metadata": {
        "id": "PdWhZqGKvkf1",
        "colab_type": "code",
        "colab": {
          "base_uri": "https://localhost:8080/",
          "height": 35
        },
        "outputId": "e4ee84e2-52ad-45fe-dce7-a2c31ba2efc0"
      },
      "source": [
        "Tuple=(1,2,3,4)\n",
        "print(len(Tuple))"
      ],
      "execution_count": 12,
      "outputs": [
        {
          "output_type": "stream",
          "text": [
            "4\n"
          ],
          "name": "stdout"
        }
      ]
    },
    {
      "cell_type": "code",
      "metadata": {
        "id": "xtTB2INpvkTZ",
        "colab_type": "code",
        "colab": {
          "base_uri": "https://localhost:8080/",
          "height": 35
        },
        "outputId": "f7601733-0bda-4f83-d1c8-a73674a41eab"
      },
      "source": [
        "Tuple=(1,2,3,4)\n",
        "Tuple1=tuple(reversed(Tuple))\n",
        "print(Tuple1)"
      ],
      "execution_count": 13,
      "outputs": [
        {
          "output_type": "stream",
          "text": [
            "(4, 3, 2, 1)\n"
          ],
          "name": "stdout"
        }
      ]
    },
    {
      "cell_type": "code",
      "metadata": {
        "id": "bHVoHGWkvkQj",
        "colab_type": "code",
        "colab": {
          "base_uri": "https://localhost:8080/",
          "height": 54
        },
        "outputId": "b71e039f-1294-48ef-cdeb-972ca9d976e0"
      },
      "source": [
        "Tuple=(\"gitam\",\"bangalure\")\n",
        "Name=''.join(Tuple)\n",
        "print(Name)\n",
        "print(type(Name))"
      ],
      "execution_count": 14,
      "outputs": [
        {
          "output_type": "stream",
          "text": [
            "gitambangalure\n",
            "<class 'str'>\n"
          ],
          "name": "stdout"
        }
      ]
    },
    {
      "cell_type": "code",
      "metadata": {
        "id": "Qnahx5m3vkNJ",
        "colab_type": "code",
        "colab": {
          "base_uri": "https://localhost:8080/",
          "height": 35
        },
        "outputId": "5fc9c787-e1c5-4bd0-c051-9f9129fb9c7b"
      },
      "source": [
        "Tuple=((1,\"gitam\"),(2,\"bangalore\"))\n",
        "Dict=dict(Tuple)\n",
        "print(Dict)"
      ],
      "execution_count": 15,
      "outputs": [
        {
          "output_type": "stream",
          "text": [
            "{1: 'gitam', 2: 'bangalore'}\n"
          ],
          "name": "stdout"
        }
      ]
    }
  ]
}